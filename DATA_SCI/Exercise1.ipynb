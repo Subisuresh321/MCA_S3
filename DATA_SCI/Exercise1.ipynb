{
 "cells": [
  {
   "cell_type": "code",
   "execution_count": 2,
   "id": "3b2b28c8",
   "metadata": {},
   "outputs": [],
   "source": [
    "import numpy as np\n",
    "from numpy import random"
   ]
  },
  {
   "cell_type": "markdown",
   "id": "2071043b",
   "metadata": {},
   "source": [
    "PROGRAM 1"
   ]
  },
  {
   "cell_type": "code",
   "execution_count": 3,
   "id": "8e168151",
   "metadata": {},
   "outputs": [
    {
     "name": "stdout",
     "output_type": "stream",
     "text": [
      "[-40.          -1.11111111   0.          -5.        ]\n"
     ]
    }
   ],
   "source": [
    "f=np.array((-40,30,32,23))\n",
    "\n",
    "# for num in f:\n",
    "#     c.append((num-32)*(5/9))\n",
    "c=(f-32)*(5/9)\n",
    "print(c)"
   ]
  },
  {
   "cell_type": "markdown",
   "id": "a341b1e5",
   "metadata": {},
   "source": [
    "PROGRAM 2"
   ]
  },
  {
   "cell_type": "code",
   "execution_count": 11,
   "id": "096dc127",
   "metadata": {},
   "outputs": [
    {
     "name": "stdout",
     "output_type": "stream",
     "text": [
      "Mean is 49.207\n",
      "Varience is 806.9961509999999\n",
      "Sd is 28.407677676994293\n"
     ]
    }
   ],
   "source": [
    "arr = random.randint(100,size=(1000))\n",
    "var = np.var(arr)\n",
    "mean= np.mean(arr)\n",
    "std= np.std(arr)\n",
    "print(f\"Mean is {mean}\\nVarience is {var}\\nSd is {std}\")"
   ]
  },
  {
   "cell_type": "markdown",
   "id": "53faead0",
   "metadata": {},
   "source": [
    "PROGRAM 3"
   ]
  },
  {
   "cell_type": "code",
   "execution_count": 18,
   "id": "2eba6ee1",
   "metadata": {},
   "outputs": [
    {
     "name": "stdout",
     "output_type": "stream",
     "text": [
      "[174  53  95 329  56]\n",
      "[3.0368729  0.9250245  1.65806279 5.74213324 0.97738438]\n"
     ]
    }
   ],
   "source": [
    "angles=random.randint(360,size=(5))\n",
    "\n",
    "radians=np.radians(angles)\n",
    "print(angles)\n",
    "print(radians)"
   ]
  },
  {
   "cell_type": "markdown",
   "id": "66bc5527",
   "metadata": {},
   "source": [
    "PROGRAM 4"
   ]
  },
  {
   "cell_type": "code",
   "execution_count": 19,
   "id": "53338673",
   "metadata": {},
   "outputs": [
    {
     "name": "stdout",
     "output_type": "stream",
     "text": [
      "[10 18 12 18 15]\n",
      "[ 8 -6  6 -3]\n"
     ]
    }
   ],
   "source": [
    "arr=random.randint(20,size=(5))\n",
    "difference=np.diff(arr)\n",
    "print(arr)\n",
    "print(difference)"
   ]
  },
  {
   "cell_type": "markdown",
   "id": "fe903869",
   "metadata": {},
   "source": [
    "PROGRAM 5"
   ]
  },
  {
   "cell_type": "code",
   "execution_count": 32,
   "id": "1900865e",
   "metadata": {},
   "outputs": [
    {
     "name": "stdout",
     "output_type": "stream",
     "text": [
      "[ 1.-5.j  1.+2.j  3.-1.j 12.-7.j 30.-2.j]\n"
     ]
    }
   ],
   "source": [
    "arr=np.array([1+2j,3-1j,1-5j,30-2j,12-7j])\n",
    "sorted=np.sort_complex(arr)\n",
    "print(sorted)"
   ]
  },
  {
   "cell_type": "markdown",
   "id": "459d5d70",
   "metadata": {},
   "source": [
    "PROGRAM 6"
   ]
  },
  {
   "cell_type": "code",
   "execution_count": 22,
   "id": "580f6737",
   "metadata": {},
   "outputs": [
    {
     "name": "stdout",
     "output_type": "stream",
     "text": [
      "[ 4 16  2  9 13]\n",
      "[16, 9, 13]\n"
     ]
    }
   ],
   "source": [
    "arr=random.randint(0,20,size=(5))\n",
    "print(arr)\n",
    "print([x for x in arr if x>4])"
   ]
  },
  {
   "cell_type": "markdown",
   "id": "33ec4f5c",
   "metadata": {},
   "source": [
    "PROGRAM 7"
   ]
  },
  {
   "cell_type": "code",
   "execution_count": 24,
   "id": "59538c71",
   "metadata": {},
   "outputs": [
    {
     "name": "stdout",
     "output_type": "stream",
     "text": [
      "[ 3 12 12 18  4]\n",
      "found at 1\n",
      "found at 2\n"
     ]
    }
   ],
   "source": [
    "arr=random.randint(0,20,size=(5))\n",
    "print(arr)\n",
    "k=int(input(\"Enter the number to search: \"))\n",
    "found=0\n",
    "for i in range(0,5):\n",
    "    if arr[i]==k:\n",
    "        print(f\"found at {i}\")\n",
    "        found=1\n",
    "if(found==0):\n",
    "   print(\"Not Found\")"
   ]
  },
  {
   "cell_type": "markdown",
   "id": "b8291f69",
   "metadata": {},
   "source": [
    "PROGRAM 8"
   ]
  },
  {
   "cell_type": "code",
   "execution_count": 9,
   "id": "76492899",
   "metadata": {},
   "outputs": [
    {
     "name": "stdout",
     "output_type": "stream",
     "text": [
      "The loaded text is [2. 3. 6. 1. 6. 9.]\n"
     ]
    }
   ],
   "source": [
    "arr=np.array([2,3,6,1,6,9])\n",
    "np.savetxt(\"nums.txt\",arr)\n",
    "loaded=np.loadtxt(\"nums.txt\")\n",
    "print(f\"The loaded text is {loaded}\")\n"
   ]
  },
  {
   "cell_type": "markdown",
   "id": "5c37512c",
   "metadata": {},
   "source": [
    "PROGRAM 9"
   ]
  },
  {
   "cell_type": "code",
   "execution_count": 10,
   "id": "8958a416",
   "metadata": {},
   "outputs": [
    {
     "name": "stdout",
     "output_type": "stream",
     "text": [
      "[30 32 34 36 38 40 42 44 46 48 50 52 54 56 58 60]\n"
     ]
    }
   ],
   "source": [
    "evenarr=np.arange(30,61,2)\n",
    "print(evenarr)"
   ]
  },
  {
   "cell_type": "markdown",
   "id": "0a1e34c5",
   "metadata": {},
   "source": [
    "PROGRAM 10"
   ]
  },
  {
   "cell_type": "code",
   "execution_count": 17,
   "id": "9b153784",
   "metadata": {},
   "outputs": [
    {
     "name": "stdout",
     "output_type": "stream",
     "text": [
      "[[7 3 5]\n",
      " [4 6 3]\n",
      " [5 1 3]]\n",
      "All sum: 37\n",
      "Col sum: [16 10 11]\n",
      "Row sum: [15 13  9]\n"
     ]
    }
   ],
   "source": [
    "arr=random.randint(1,8,size=(3,3))\n",
    "print(arr)\n",
    "allsum=np.sum(arr)\n",
    "colsum=np.sum(arr,axis=0)\n",
    "rowsum=np.sum(arr,axis=1)\n",
    "print(f\"All sum: {allsum}\")\n",
    "print(f\"Col sum: {colsum}\")\n",
    "print(f\"Row sum: {rowsum}\")"
   ]
  }
 ],
 "metadata": {
  "kernelspec": {
   "display_name": "base",
   "language": "python",
   "name": "python3"
  },
  "language_info": {
   "codemirror_mode": {
    "name": "ipython",
    "version": 3
   },
   "file_extension": ".py",
   "mimetype": "text/x-python",
   "name": "python",
   "nbconvert_exporter": "python",
   "pygments_lexer": "ipython3",
   "version": "3.12.4"
  }
 },
 "nbformat": 4,
 "nbformat_minor": 5
}
