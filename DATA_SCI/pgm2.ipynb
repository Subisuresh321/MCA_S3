{
 "cells": [
  {
   "cell_type": "code",
   "execution_count": 12,
   "id": "9b4741c9",
   "metadata": {},
   "outputs": [
    {
     "name": "stdout",
     "output_type": "stream",
     "text": [
      "[2 3 4 5 6 7]\n",
      "[3 4 5 6]\n",
      "[2 3 4 5 6]\n",
      "[5 6 7]\n",
      "[4 5 6]\n",
      "[7 6 5]\n"
     ]
    }
   ],
   "source": [
    "import numpy as np\n",
    "arr=np.arange(2,8)\n",
    "print(arr)\n",
    "print(arr[1:5])\n",
    "print(arr[:5])\n",
    "print(arr[3:])\n",
    "print(arr[-4:-1])\n",
    "print(arr[-1:-4:-1])"
   ]
  },
  {
   "cell_type": "code",
   "execution_count": null,
   "id": "99676c21",
   "metadata": {},
   "outputs": [
    {
     "name": "stdout",
     "output_type": "stream",
     "text": [
      "[ 2  3 10  5  6  7  8  9]\n",
      "[ 2  3 10  5  6  7  8  9]\n"
     ]
    }
   ],
   "source": [
    "arr1=np.arange(2,10)\n",
    "arr2=arr1\n",
    "arr2[2]=10\n",
    "print(arr1)\n",
    "print(arr2)\n"
   ]
  },
  {
   "cell_type": "code",
   "execution_count": 15,
   "id": "598ca333",
   "metadata": {},
   "outputs": [
    {
     "name": "stdout",
     "output_type": "stream",
     "text": [
      "[2 3 4 5 6 7 8 9]\n",
      "[ 2  3 10  5  6  7  8  9]\n"
     ]
    }
   ],
   "source": [
    "arr1=np.arange(2,10)\n",
    "arr2=np.copy(arr1)\n",
    "arr2[2]=10\n",
    "print(arr1)\n",
    "print(arr2)\n"
   ]
  },
  {
   "cell_type": "code",
   "execution_count": 19,
   "id": "5a6a686f",
   "metadata": {},
   "outputs": [
    {
     "name": "stdout",
     "output_type": "stream",
     "text": [
      "[1 2 3 4 5 6 7 8 9] [11 12 13 14 15 16 17 18 19]\n",
      "[ 1  2  3  4  5  6  7  8  9 11 12 13 14 15 16 17 18 19]\n"
     ]
    }
   ],
   "source": [
    "a=np.arange(1,10)\n",
    "b=np.arange(11,20)\n",
    "print(a,b)\n",
    "c=np.concatenate((a,b))\n",
    "print(c)"
   ]
  },
  {
   "cell_type": "code",
   "execution_count": null,
   "id": "8d9428a3",
   "metadata": {},
   "outputs": [
    {
     "name": "stdout",
     "output_type": "stream",
     "text": [
      "[[1 2 3]\n",
      " [4 5 6]]\n",
      "[[11 22]\n",
      " [44 55]]\n",
      "[[ 1  2  3 11 22]\n",
      " [ 4  5  6 44 55]]\n"
     ]
    }
   ],
   "source": [
    "mat1=np.array(([1,2,3],[4,5,6]))\n",
    "mat2=np.array(([11,22],[44,55]))\n",
    "print(mat1)\n",
    "print(mat2)\n",
    "# mat3=np.concatenate((mat1,mat2)) without axis leads to error\n",
    "mat3=np.concatenate((mat1,mat2),axis=1)\n",
    "print(mat3)"
   ]
  },
  {
   "cell_type": "code",
   "execution_count": 29,
   "id": "705fe135",
   "metadata": {},
   "outputs": [
    {
     "name": "stdout",
     "output_type": "stream",
     "text": [
      "[[ 1  2]\n",
      " [ 4  5]\n",
      " [11 22]\n",
      " [44 55]]\n",
      "[[ 1  2 11 22]\n",
      " [ 4  5 44 55]]\n"
     ]
    }
   ],
   "source": [
    "mat1=np.array(([1,2],[4,5]))\n",
    "mat2=np.array(([11,22],[44,55]))\n",
    "\n",
    "mat3=np.concatenate((mat1,mat2))\n",
    "print(mat3)\n",
    "mat3=np.concatenate((mat1,mat2),axis=1)\n",
    "print(mat3)"
   ]
  },
  {
   "cell_type": "code",
   "execution_count": 41,
   "id": "6e2b07a5",
   "metadata": {},
   "outputs": [
    {
     "name": "stdout",
     "output_type": "stream",
     "text": [
      "[1 2 3]\n",
      "[1 2]\n",
      "NotFound\n"
     ]
    }
   ],
   "source": [
    "arr=np.array((4,6,6,7))\n",
    "x=np.where(arr>=6)\n",
    "print(x[0])\n",
    "x=np.where(arr==6)\n",
    "print(x[0])\n",
    "x=np.where(arr==9)\n",
    "if(x[0].size>=1):\n",
    "    print(x[0])\n",
    "else:\n",
    "    print(\"NotFound\")\n",
    "\n"
   ]
  }
 ],
 "metadata": {
  "kernelspec": {
   "display_name": "base",
   "language": "python",
   "name": "python3"
  },
  "language_info": {
   "codemirror_mode": {
    "name": "ipython",
    "version": 3
   },
   "file_extension": ".py",
   "mimetype": "text/x-python",
   "name": "python",
   "nbconvert_exporter": "python",
   "pygments_lexer": "ipython3",
   "version": "3.12.4"
  }
 },
 "nbformat": 4,
 "nbformat_minor": 5
}
