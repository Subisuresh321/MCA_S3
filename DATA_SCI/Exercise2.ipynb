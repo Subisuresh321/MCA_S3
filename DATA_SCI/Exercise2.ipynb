{
 "cells": [
  {
   "cell_type": "code",
   "execution_count": 3,
   "id": "8fff6cf7",
   "metadata": {},
   "outputs": [
    {
     "name": "stdout",
     "output_type": "stream",
     "text": [
      "Enter the elements of first matrix: \n",
      "Matrix1 \n",
      " [[3. 3. 2.]\n",
      " [4. 2. 6.]\n",
      " [6. 4. 3.]]\n",
      "Matrix2 \n",
      " [[5. 5. 8.]\n",
      " [7. 6. 3.]\n",
      " [3. 7. 7.]]\n"
     ]
    }
   ],
   "source": [
    "import numpy as np\n",
    "mat1=np.empty((3,3))\n",
    "mat2=np.empty((3,3))\n",
    "\n",
    "print(\"Enter the elements of first matrix: \")\n",
    "\n",
    "for i in range(0,3):\n",
    "    for j in range(0,3):\n",
    "        mat1[i][j]=int(input(f\"Enter element {i},{j} of matrix 1: \"))\n",
    "        mat2[i][j]=int(input(f\"Enter element {i},{j} of matrix 2: \"))\n",
    "\n",
    "print(f\"Matrix1 \\n {mat1}\")\n",
    "print(f\"Matrix2 \\n {mat2}\")"
   ]
  },
  {
   "cell_type": "markdown",
   "id": "4d9ca0d1",
   "metadata": {},
   "source": [
    "Transpose"
   ]
  },
  {
   "cell_type": "code",
   "execution_count": 4,
   "id": "23512c28",
   "metadata": {},
   "outputs": [
    {
     "name": "stdout",
     "output_type": "stream",
     "text": [
      "Transpose is : \n",
      " [[3. 4. 6.]\n",
      " [3. 2. 4.]\n",
      " [2. 6. 3.]]\n"
     ]
    }
   ],
   "source": [
    "\n",
    "transpose=np.transpose(mat1)\n",
    "print(f\"Transpose is : \\n {transpose}\")"
   ]
  },
  {
   "cell_type": "markdown",
   "id": "16bc2fd6",
   "metadata": {},
   "source": [
    "Dot Product"
   ]
  },
  {
   "cell_type": "code",
   "execution_count": 11,
   "id": "65517671",
   "metadata": {},
   "outputs": [
    {
     "name": "stdout",
     "output_type": "stream",
     "text": [
      "direct multilplication\n",
      "[[15. 15. 16.]\n",
      " [28. 12. 18.]\n",
      " [18. 28. 21.]]\n",
      "Matrix Multiplication: \n",
      "[[42. 47. 47.]\n",
      " [52. 74. 80.]\n",
      " [67. 75. 81.]]\n"
     ]
    }
   ],
   "source": [
    "print(\"direct multilplication\")\n",
    "print(mat1*mat2) #direct multilplication\n",
    "print(\"Matrix Multiplication: \")\n",
    "print(np.dot(mat1,mat2))"
   ]
  },
  {
   "cell_type": "markdown",
   "id": "bc20a97c",
   "metadata": {},
   "source": [
    "Trace"
   ]
  },
  {
   "cell_type": "code",
   "execution_count": 9,
   "id": "f90f2339",
   "metadata": {},
   "outputs": [
    {
     "name": "stdout",
     "output_type": "stream",
     "text": [
      "[[5. 5. 8.]\n",
      " [7. 6. 3.]\n",
      " [3. 7. 7.]]\n",
      "diagonal sum: 18.0\n"
     ]
    }
   ],
   "source": [
    "print(mat2)\n",
    "print(f\"diagonal sum: {np.trace(mat2)}\") "
   ]
  },
  {
   "cell_type": "markdown",
   "id": "489b78a1",
   "metadata": {},
   "source": [
    "DETERMINENT"
   ]
  },
  {
   "cell_type": "code",
   "execution_count": 12,
   "id": "aa93bffc",
   "metadata": {},
   "outputs": [
    {
     "name": "stdout",
     "output_type": "stream",
     "text": [
      "[[3. 3. 2.]\n",
      " [4. 2. 6.]\n",
      " [6. 4. 3.]]\n",
      "The Determinent is 25.99999999999999\n"
     ]
    }
   ],
   "source": [
    "print(mat1)\n",
    "print(f\"The Determinent is {np.linalg.det(mat1)}\")"
   ]
  },
  {
   "cell_type": "markdown",
   "id": "ca745f28",
   "metadata": {},
   "source": [
    "INVERSE,RANK,EIGEN VALUES AND VECTORS"
   ]
  },
  {
   "cell_type": "code",
   "execution_count": 17,
   "id": "b239ea6a",
   "metadata": {},
   "outputs": [
    {
     "name": "stdout",
     "output_type": "stream",
     "text": [
      "[[3. 3. 2.]\n",
      " [4. 2. 6.]\n",
      " [6. 4. 3.]]\n",
      "Inverse: \n",
      " [[-0.69230769 -0.03846154  0.53846154]\n",
      " [ 0.92307692 -0.11538462 -0.38461538]\n",
      " [ 0.15384615  0.23076923 -0.23076923]]\n",
      "Rank: \n",
      " 3\n",
      "Eigen values: \n",
      " [10.73950796+0.j        -1.36975398+0.7380661j -1.36975398-0.7380661j]\n",
      "\n",
      "Eigen vectors: \n",
      " [[ 0.41474214+0.j         -0.46549102-0.17990077j -0.46549102+0.17990077j]\n",
      " [ 0.63635749+0.j          0.82387441+0.j          0.82387441-0.j        ]\n",
      " [ 0.6504138 +0.j         -0.15238166+0.22127947j -0.15238166-0.22127947j]]\n"
     ]
    }
   ],
   "source": [
    "print(mat1)\n",
    "print(f\"Inverse: \\n {np.linalg.inv(mat1)}\") \n",
    "print(f\"Rank: \\n {np.linalg.matrix_rank(mat1)}\") \n",
    "print(f\"Eigen values: \\n {np.linalg.eig(mat1).eigenvalues}\") \n",
    "print(f\"\\nEigen vectors: \\n {np.linalg.eig(mat1).eigenvectors}\")  "
   ]
  },
  {
   "cell_type": "code",
   "execution_count": 48,
   "id": "405ff56d",
   "metadata": {},
   "outputs": [
    {
     "data": {
      "image/png": "[encoded data removed]",
      "text/plain": [
       "<Figure size 640x480 with 1 Axes>"
      ]
     },
     "metadata": {},
     "output_type": "display_data"
    }
   ],
   "source": [
    "x=np.array([1,5,3,3,3,3])\n",
    "y=np.array([3,3,3,1,3,5])\n",
    "plt.plot(x,y,marker='+',color=\"r\",ms=25,mec='r',mfc='g')\n",
    "plt.show()"
   ]
  }
 ],
 "metadata": {
  "kernelspec": {
   "display_name": "base",
   "language": "python",
   "name": "python3"
  },
  "language_info": {
   "codemirror_mode": {
    "name": "ipython",
    "version": 3
   },
   "file_extension": ".py",
   "mimetype": "text/x-python",
   "name": "python",
   "nbconvert_exporter": "python",
   "pygments_lexer": "ipython3",
   "version": "3.12.4"
  }
 },
 "nbformat": 4,
 "nbformat_minor": 5
}
